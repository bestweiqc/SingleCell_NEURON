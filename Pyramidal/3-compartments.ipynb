{
 "cells": [
  {
   "cell_type": "code",
   "execution_count": 1,
   "metadata": {},
   "outputs": [],
   "source": [
    "from neuron import h,gui2\n",
    "import math\n",
    "import ipywidgets as widgets\n",
    "from ipywidgets import HBox,VBox,Label,Layout\n",
    "from IPython.display import display\n",
    "import matplotlib.pyplot as plt\n",
    "import pandas as pd\n",
    "import numpy as np\n",
    "%matplotlib inline\n",
    "h.load_file('stdrun.hoc')\n",
    "gui2.set_backend('jupyter')"
   ]
  },
  {
   "cell_type": "code",
   "execution_count": 2,
   "metadata": {},
   "outputs": [
    {
     "data": {
      "text/plain": [
       "1.0"
      ]
     },
     "execution_count": 2,
     "metadata": {},
     "output_type": "execute_result"
    }
   ],
   "source": [
    "h.load_file('LAcells_template.hoc')"
   ]
  },
  {
   "cell_type": "code",
   "execution_count": 3,
   "metadata": {
    "scrolled": true
   },
   "outputs": [
    {
     "data": {
      "text/plain": [
       "1.0"
      ]
     },
     "execution_count": 3,
     "metadata": {},
     "output_type": "execute_result"
    }
   ],
   "source": [
    "Cell = h.Cell_C()\n",
    "h.v_init = -70\n",
    "h.tstop = 3000\n",
    "\n",
    "v0_vec = h.Vector()\n",
    "t_vec = h.Vector()\n",
    "v0_vec.record(Cell.soma(0.5)._ref_v)\n",
    "t_vec.record(h._ref_t)"
   ]
  },
  {
   "cell_type": "code",
   "execution_count": 4,
   "metadata": {},
   "outputs": [],
   "source": [
    "def Passive (gleak,gh,gleak2):\n",
    "    \n",
    "    stim_amp =  -0.1\n",
    "    stim = h.IClamp(Cell.soma(0.5)) \n",
    "    stim.delay = 300 # in ms\n",
    "    stim.dur = 500  #1200 // 600 // in ms\n",
    "    stim.amp = stim_amp # 0.123 // in nA\n",
    "    \n",
    "    Cell.soma.glbar_leak = gleak * 1e-5\n",
    "    Cell.soma.ghdbar_hd = gh * 1e-5\n",
    "    \n",
    "    Cell.dend.glbar_leak = gleak2 * 1e-5\n",
    "    Cell.dend.ghdbar_hd = gh  * 1e-5\n",
    "    \n",
    "    Cell.p_dend.glbar_leak = gleak2 * 1e-5\n",
    "    Cell.p_dend.ghdbar_hd = gh  * 1e-5\n",
    "    \n",
    "    h.run()\n",
    "\n",
    "    plt.plot(t_vec, v0_vec,'b')\n",
    "    plt.xlim(0,1000)\n",
    "    plt.ylabel('mV')\n",
    "    plt.show()"
   ]
  },
  {
   "cell_type": "code",
   "execution_count": 5,
   "metadata": {},
   "outputs": [],
   "source": [
    "def Spiking (gna,gkdr):\n",
    "    \n",
    "    stim_amp =  0.4\n",
    "    stim = h.IClamp(Cell.soma(0.5)) \n",
    "    stim.delay = 300 # in ms\n",
    "    stim.dur = 400  #1200 // 600 // in ms\n",
    "    stim.amp = stim_amp # 0.123 // in nA\n",
    "    \n",
    "    Cell.soma.gbar_na3 = 3*gna * 1e-3\n",
    "    Cell.soma.gbar_kdr = gkdr * 1e-3\n",
    "    Cell.dend.gbar_na3 = gna * 1e-3\n",
    "    Cell.dend.gbar_kdr = gkdr  * 1e-3\n",
    "    Cell.p_dend.gbar_na3 = gna * 1e-3\n",
    "    Cell.p_dend.gbar_kdr = gkdr  * 1e-3\n",
    " \n",
    "    h.run()\n",
    "\n",
    "    plt.plot(t_vec, v0_vec,'b')\n",
    "    plt.xlim(0,1000)\n",
    "    plt.ylabel('mV')\n",
    "    plt.show()"
   ]
  },
  {
   "cell_type": "code",
   "execution_count": 17,
   "metadata": {},
   "outputs": [],
   "source": [
    "def LTO (gnap,naphalf,napslope,gkm,kmhalf,kmslope):\n",
    "    \n",
    "    Cell.soma.gbar_nap = gnap * 1e-5\n",
    "    Cell.soma.vhalf_nap = naphalf\n",
    "    Cell.soma.k_nap = napslope \n",
    "    Cell.soma.gbar_im  = gkm * 1e-3\n",
    "    Cell.soma.vhalf_im = kmhalf\n",
    "    Cell.soma.k_im = kmslope\n",
    "    \n",
    "    Cell.dend.gbar_nap = gnap * 1e-6\n",
    "    Cell.dend.vhalf_nap = naphalf\n",
    "    Cell.dend.k_nap = napslope \n",
    "    Cell.dend.gbar_im  = gkm * 1e-4\n",
    "    Cell.dend.vhalf_im = kmhalf\n",
    "    Cell.dend.k_im = kmslope\n",
    "    \n",
    "    Cell.p_dend.gbar_nap = gnap * 1e-6\n",
    "    Cell.p_dend.vhalf_nap = naphalf\n",
    "    Cell.p_dend.k_nap = napslope \n",
    "    Cell.p_dend.gbar_im  = gkm * 1e-4\n",
    "    Cell.p_dend.vhalf_im = kmhalf\n",
    "    Cell.p_dend.k_im = kmslope\n",
    "        \n",
    "    stim_amp =  0.00707 \n",
    "    stim = h.IClamp(Cell.soma(0.5)) \n",
    "    stim.delay = 300 \n",
    "    stim.dur = 2500  \n",
    "    stim.amp = stim_amp \n",
    "     \n",
    "    stim1 = h.IClamp(Cell.soma(0.5)) \n",
    "    stim1.delay = 400 \n",
    "    stim1.dur = 2400  \n",
    "    stim1.amp = stim_amp \n",
    "     \n",
    "    stim2 = h.IClamp(Cell.soma(0.5)) \n",
    "    stim2.delay = 500 \n",
    "    stim2.dur = 2300  \n",
    "    stim2.amp = stim_amp \n",
    "    \n",
    "    stim3 = h.IClamp(Cell.soma(0.5)) \n",
    "    stim3.delay = 600 \n",
    "    stim3.dur = 2200  \n",
    "    stim3.amp = stim_amp \n",
    "    \n",
    "    stim4 = h.IClamp(Cell.soma(0.5)) \n",
    "    stim4.delay = 700 \n",
    "    stim4.dur = 2100  \n",
    "    stim4.amp = stim_amp \n",
    "     \n",
    "    stim5 = h.IClamp(Cell.soma(0.5)) \n",
    "    stim5.delay = 800 \n",
    "    stim5.dur = 2000  \n",
    "    stim5.amp = stim_amp \n",
    "     \n",
    "    stim6 = h.IClamp(Cell.soma(0.5)) \n",
    "    stim6.delay = 900 \n",
    "    stim6.dur = 1900  \n",
    "    stim6.amp = stim_amp \n",
    "    \n",
    "    stim7 = h.IClamp(Cell.soma(0.5)) \n",
    "    stim7.delay = 1000 \n",
    "    stim7.dur = 1800  \n",
    "    stim7.amp = stim_amp \n",
    "     \n",
    "    stim8 = h.IClamp(Cell.soma(0.5)) \n",
    "    stim8.delay = 1100 \n",
    "    stim8.dur = 1700  \n",
    "    stim8.amp = stim_amp \n",
    "     \n",
    "    stim9 = h.IClamp(Cell.soma(0.5)) \n",
    "    stim9.delay = 1200 \n",
    "    stim9.dur = 1600  \n",
    "    stim9.amp = stim_amp \n",
    "    \n",
    "    h.run()\n",
    "\n",
    "    plt.plot(t_vec, v0_vec,'b')\n",
    "    plt.xlim(0,3000)\n",
    "    plt.ylabel('mV')\n",
    "    plt.show()"
   ]
  },
  {
   "cell_type": "code",
   "execution_count": 18,
   "metadata": {},
   "outputs": [],
   "source": [
    "def HTO (gca,cahalf,caslope):\n",
    "    \n",
    "    Cell.soma.gbar_na3 = 0\n",
    "    Cell.soma.gbar_nap = 0\n",
    "\n",
    "    \n",
    "    Cell.dend.gbar_na3 = 0\n",
    "    Cell.dend.gbar_nap = 0\n",
    "\n",
    "    Cell.p_dend.gbar_na3 = 0\n",
    "    Cell.p_dend.gbar_nap = 0\n",
    "    Cell.soma.gcabar_cadyn = gca * 1e-4\n",
    "    Cell.dend.gcabar_cadyn = gca * 1e-4\n",
    "    Cell.p_dend.gcabar_cadyn = gca * 1e-4\n",
    "    Cell.soma.vhalf_cadyn = -cahalf\n",
    "    Cell.soma.k_cadyn = caslope\n",
    "    Cell.dend.gcabar_cadyn = gca * 1e-4\n",
    "    Cell.dend.vhalf_cadyn = -cahalf\n",
    "    Cell.dend.k_cadyn = caslope\n",
    "    \n",
    "    stim_amp =  0.33\n",
    "    stim = h.IClamp(Cell.soma(0.5)) \n",
    "    stim.delay = 300 \n",
    "    stim.dur = 2500  \n",
    "    stim.amp = stim_amp \n",
    "     \n",
    "    stim1 = h.IClamp(Cell.soma(0.5)) \n",
    "    stim1.delay = 400 \n",
    "    stim1.dur = 2400  \n",
    "    stim1.amp = stim_amp \n",
    "     \n",
    "    stim2 = h.IClamp(Cell.soma(0.5)) \n",
    "    stim2.delay = 500 \n",
    "    stim2.dur = 2300  \n",
    "    stim2.amp = stim_amp \n",
    "    \n",
    "    stim3 = h.IClamp(Cell.soma(0.5)) \n",
    "    stim3.delay = 600 \n",
    "    stim3.dur = 2200  \n",
    "    stim3.amp = stim_amp \n",
    "    \n",
    "    stim4 = h.IClamp(Cell.soma(0.5)) \n",
    "    stim4.delay = 700 \n",
    "    stim4.dur = 2100  \n",
    "    stim4.amp = stim_amp \n",
    "     \n",
    "    stim5 = h.IClamp(Cell.soma(0.5)) \n",
    "    stim5.delay = 800 \n",
    "    stim5.dur = 2000  \n",
    "    stim5.amp = stim_amp \n",
    "     \n",
    "    stim6 = h.IClamp(Cell.soma(0.5)) \n",
    "    stim6.delay = 900 \n",
    "    stim6.dur = 1900  \n",
    "    stim6.amp = stim_amp \n",
    "    \n",
    "    stim7 = h.IClamp(Cell.soma(0.5)) \n",
    "    stim7.delay = 1000 \n",
    "    stim7.dur = 1800  \n",
    "    stim7.amp = stim_amp \n",
    "     \n",
    "    stim8 = h.IClamp(Cell.soma(0.5)) \n",
    "    stim8.delay = 1100 \n",
    "    stim8.dur = 1700  \n",
    "    stim8.amp = stim_amp \n",
    "     \n",
    "    stim9 = h.IClamp(Cell.soma(0.5)) \n",
    "    stim9.delay = 1200 \n",
    "    stim9.dur = 1600  \n",
    "    stim9.amp = stim_amp \n",
    "    \n",
    "    h.run()\n",
    "\n",
    "    plt.plot(t_vec, v0_vec,'b')\n",
    "    plt.xlim(0,3000)\n",
    "    plt.ylabel('mV')\n",
    "    plt.show()"
   ]
  },
  {
   "cell_type": "code",
   "execution_count": 19,
   "metadata": {},
   "outputs": [
    {
     "data": {
      "application/vnd.jupyter.widget-view+json": {
       "model_id": "4ef17a6b3fbc4a39aab37408c3c77f82",
       "version_major": 2,
       "version_minor": 0
      },
      "text/plain": [
       "HBox(children=(VBox(children=(Label(value='gleak'), Label(value='gh'), Label(value='gleak2')), layout=Layout(w…"
      ]
     },
     "metadata": {},
     "output_type": "display_data"
    },
    {
     "data": {
      "application/vnd.jupyter.widget-view+json": {
       "model_id": "91b8b8d9212f412e84a8b4a284247a54",
       "version_major": 2,
       "version_minor": 0
      },
      "text/plain": [
       "Output()"
      ]
     },
     "metadata": {},
     "output_type": "display_data"
    }
   ],
   "source": [
    "gleak = 2.5\n",
    "gh = 1.5\n",
    "gleak2 = 4.71\n",
    "\n",
    "w_gleak = widgets.FloatSlider(value=gleak,min=1.5,max=7.5,step=0.5,continuous_update=False,readout_format='.1f')\n",
    "w_gh = widgets.FloatSlider(value=gh,min=0,max=10,step=0.2,continuous_update=False,readout_format='.1f')\n",
    "w_gleak2 = widgets.FloatSlider(value=gleak2,min=1.5,max=7.5,step=0.5,continuous_update=False,readout_format='.1f')\n",
    "ui =  HBox([VBox([Label('gleak'),Label('gh'),Label('gleak2')],layout=Layout(width='10%')),\n",
    "            VBox([w_gleak,w_gh,w_gleak2],layout=Layout(width='38%'))])\n",
    "\n",
    "out = widgets.interactive_output(Passive,{'gleak':w_gleak,'gh':w_gh,'gleak2':w_gleak2})\n",
    "\n",
    "display(ui,out)\n"
   ]
  },
  {
   "cell_type": "code",
   "execution_count": 20,
   "metadata": {},
   "outputs": [],
   "source": [
    "gleak = 2.5 # after tuning the value, you need to change the values here\n",
    "gh = 1.5\n",
    "gleak2 = 4.71\n",
    "Cell.soma.glbar_leak = gleak * 1e-5\n",
    "Cell.soma.ghdbar_hd = gh * 1e-5\n",
    "\n",
    "Cell.dend.glbar_leak = gleak2 * 1e-5\n",
    "Cell.dend.ghdbar_hd = gh * 1e-5\n",
    "\n",
    "Cell.p_dend.glbar_leak = gleak2 * 1e-5\n",
    "Cell.p_dend.ghdbar_hd = gh * 1e-5"
   ]
  },
  {
   "cell_type": "code",
   "execution_count": 21,
   "metadata": {},
   "outputs": [
    {
     "data": {
      "application/vnd.jupyter.widget-view+json": {
       "model_id": "a71327433fbb45f8bb03959f4b769fbc",
       "version_major": 2,
       "version_minor": 0
      },
      "text/plain": [
       "HBox(children=(VBox(children=(Label(value='gna'), Label(value='gkdr'), Label(value='kdrslope'), Label(value='k…"
      ]
     },
     "metadata": {},
     "output_type": "display_data"
    },
    {
     "data": {
      "application/vnd.jupyter.widget-view+json": {
       "model_id": "e4ffd5a0c3624c3ea280e105ef73b170",
       "version_major": 2,
       "version_minor": 0
      },
      "text/plain": [
       "Output()"
      ]
     },
     "metadata": {},
     "output_type": "display_data"
    }
   ],
   "source": [
    "gna = 15.0\n",
    "gkdr = 2.0\n",
    "\n",
    "w_gna = widgets.FloatSlider(value=gna,min=1,max=30,step=0.5,continuous_update=False,readout_format='.1f')\n",
    "w_gkdr = widgets.FloatSlider(value=gkdr,min=1,max=30,step=0.1,continuous_update=False,readout_format='.1f')\n",
    "\n",
    "ui =  HBox([VBox([Label('gna'),Label('gkdr'),Label('kdrslope'),Label('kdrhalf')],layout=Layout(width='10%')),\n",
    "            VBox([w_gna,w_gkdr],layout=Layout(width='38%'))])\n",
    "\n",
    "out = widgets.interactive_output(Spiking,{'gna':w_gna,'gkdr':w_gkdr})\n",
    "\n",
    "display(ui,out)"
   ]
  },
  {
   "cell_type": "code",
   "execution_count": 22,
   "metadata": {},
   "outputs": [],
   "source": [
    "gna = 15.0\n",
    "gkdr = 2.0\n",
    "Cell.soma.gbar_na3 = 3*gna * 1e-3\n",
    "Cell.soma.gbar_kdr = gkdr * 1e-3\n",
    "Cell.dend.gbar_na3 = gna * 1e-3\n",
    "Cell.dend.gbar_kdr = gkdr  * 1e-3\n",
    "Cell.p_dend.gbar_na3 = gna * 1e-3\n",
    "Cell.p_dend.gbar_kdr = gkdr  * 1e-3"
   ]
  },
  {
   "cell_type": "code",
   "execution_count": 24,
   "metadata": {},
   "outputs": [
    {
     "data": {
      "application/vnd.jupyter.widget-view+json": {
       "model_id": "f4482232ce1a475bad293ad3936576ea",
       "version_major": 2,
       "version_minor": 0
      },
      "text/plain": [
       "HBox(children=(VBox(children=(Label(value='gnap'), Label(value='gkm'), Label(value='naphalf'), Label(value='km…"
      ]
     },
     "metadata": {},
     "output_type": "display_data"
    },
    {
     "data": {
      "application/vnd.jupyter.widget-view+json": {
       "model_id": "3da0b481fe884256ab927fd95072f2d2",
       "version_major": 2,
       "version_minor": 0
      },
      "text/plain": [
       "Output()"
      ]
     },
     "metadata": {},
     "output_type": "display_data"
    }
   ],
   "source": [
    "gnap = 56.7\n",
    "gkm = 2.7\n",
    "naphalf = 24.1\n",
    "napslope = 34.1\n",
    "kmhalf = 41.7\n",
    "kmslope = 43.8\n",
    "\n",
    "w_gnap = widgets.FloatSlider(value=gnap,min=1,max=100,step=0.1,continuous_update=False,readout_format='.1f')\n",
    "w_gkm = widgets.FloatSlider(value=gkm,min=1,max=100,step=0.1,continuous_update=False,readout_format='.1f')\n",
    "\n",
    "w_vhalf = widgets.FloatSlider(value=naphalf,min=1,max=64,step=.1,continuous_update=False,readout_format='.1f')\n",
    "w_Vhalf = widgets.FloatSlider(value=kmhalf,min=1,max=64,step=.1,continuous_update=False,readout_format='.1f')\n",
    "\n",
    "w_knap = widgets.FloatSlider(value=napslope,min=0,max=70,step=.1,continuous_update=False,readout_format='.1f')\n",
    "w_km = widgets.FloatSlider(value=kmslope,min=0,max=70,step=.1,continuous_update=False,readout_format='.1f')\n",
    "\n",
    "ui =  HBox([VBox([Label('gnap'),Label('gkm'),Label('naphalf'),Label('kmhalf'),Label('napslope'),Label('kmslope')],layout=Layout(width='10%')),\n",
    "            VBox([w_gnap,w_gkm,w_vhalf,w_Vhalf,w_knap,w_km],layout=Layout(width='38%'))])\n",
    "\n",
    "out = widgets.interactive_output(LTO,{'gnap':w_gnap,'gkm':w_gkm,'naphalf':w_vhalf,'kmhalf':w_Vhalf,'napslope':w_knap,'kmslope':w_km})\n",
    "\n",
    "display(ui,out)\n"
   ]
  },
  {
   "cell_type": "code",
   "execution_count": 25,
   "metadata": {},
   "outputs": [],
   "source": [
    "gnap = 56.7\n",
    "gkm = 2.7\n",
    "naphalf = 24.1\n",
    "napslope = 34.1\n",
    "kmhalf = 41.7\n",
    "kmslope = 43.8\n",
    "\n",
    "Cell.soma.gbar_nap = gnap * 1e-5\n",
    "Cell.soma.vhalf_nap = naphalf\n",
    "Cell.soma.k_nap = napslope \n",
    "Cell.soma.gbar_im  = gkm * 1e-3\n",
    "Cell.soma.vhalf_im = kmhalf\n",
    "Cell.soma.k_im = kmslope"
   ]
  },
  {
   "cell_type": "code",
   "execution_count": 26,
   "metadata": {},
   "outputs": [
    {
     "data": {
      "application/vnd.jupyter.widget-view+json": {
       "model_id": "ce0b29103beb4c1ca23ab3f5ac546def",
       "version_major": 2,
       "version_minor": 0
      },
      "text/plain": [
       "HBox(children=(VBox(children=(Label(value='gca'), Label(value='cahalf'), Label(value='caslope')), layout=Layou…"
      ]
     },
     "metadata": {},
     "output_type": "display_data"
    },
    {
     "data": {
      "application/vnd.jupyter.widget-view+json": {
       "model_id": "7bde63dd0dee4a438cbcf6df37f6696e",
       "version_major": 2,
       "version_minor": 0
      },
      "text/plain": [
       "Output()"
      ]
     },
     "metadata": {},
     "output_type": "display_data"
    }
   ],
   "source": [
    "gca = 5.5\n",
    "cahalf = -47.6\n",
    "caslope = 9.1\n",
    "\n",
    "w_gca = widgets.FloatSlider(value=gca,min=1,max=30,step=0.1,continuous_update=False,readout_format='.1f')\n",
    "w_halfca = widgets.FloatSlider(value=cahalf,min=-64,max=0,step=.1,continuous_update=False,readout_format='.1f')\n",
    "w_cak = widgets.FloatSlider(value=caslope,min=0,max=80,step=0.1,continuous_update=False,readout_format='.1f')\n",
    "\n",
    "ui =  HBox([VBox([Label('gca'),Label('cahalf'),Label('caslope')],layout=Layout(width='10%')),\n",
    "            VBox([w_gca,w_halfca,w_cak],layout=Layout(width='38%'))])\n",
    "\n",
    "out = widgets.interactive_output(HTO,{'gca':w_gca,'cahalf':w_halfca,'caslope':w_cak})\n",
    "\n",
    "display(ui,out)"
   ]
  },
  {
   "cell_type": "code",
   "execution_count": null,
   "metadata": {},
   "outputs": [],
   "source": []
  }
 ],
 "metadata": {
  "kernelspec": {
   "display_name": "Python 3",
   "language": "python",
   "name": "python3"
  },
  "language_info": {
   "codemirror_mode": {
    "name": "ipython",
    "version": 3
   },
   "file_extension": ".py",
   "mimetype": "text/x-python",
   "name": "python",
   "nbconvert_exporter": "python",
   "pygments_lexer": "ipython3",
   "version": "3.6.9"
  }
 },
 "nbformat": 4,
 "nbformat_minor": 2
}
