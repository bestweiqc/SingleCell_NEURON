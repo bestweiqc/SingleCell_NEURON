{
 "cells": [
  {
   "cell_type": "code",
   "execution_count": 1,
   "metadata": {},
   "outputs": [],
   "source": [
    "from neuron import h,gui2\n",
    "import ipywidgets as widgets\n",
    "from ipywidgets import HBox,VBox,Label,Layout\n",
    "from IPython.display import display\n",
    "import matplotlib.pyplot as plt\n",
    "%matplotlib inline\n",
    "h.load_file('stdrun.hoc')\n",
    "gui2.set_backend('jupyter')"
   ]
  },
  {
   "cell_type": "code",
   "execution_count": 2,
   "metadata": {},
   "outputs": [
    {
     "data": {
      "text/plain": [
       "1.0"
      ]
     },
     "execution_count": 2,
     "metadata": {},
     "output_type": "execute_result"
    }
   ],
   "source": [
    "h.load_file('class_detailedpyrtypeC.hoc') # import hoc template here"
   ]
  },
  {
   "cell_type": "code",
   "execution_count": 3,
   "metadata": {},
   "outputs": [],
   "source": [
    "Cell = h.detailedpyrtypeC() #define name of cell"
   ]
  },
  {
   "cell_type": "code",
   "execution_count": 4,
   "metadata": {},
   "outputs": [
    {
     "data": {
      "text/plain": [
       "1.0"
      ]
     },
     "execution_count": 4,
     "metadata": {},
     "output_type": "execute_result"
    }
   ],
   "source": [
    "h.v_init = -70\n",
    "h.tstop = 3000\n",
    "v0_vec = h.Vector()\n",
    "t_vec = h.Vector()\n",
    "v0_vec.record(Cell.soma[0](0.5)._ref_v)\n",
    "t_vec.record(h._ref_t)"
   ]
  },
  {
   "cell_type": "code",
   "execution_count": 5,
   "metadata": {},
   "outputs": [],
   "source": [
    "def Passive (gleak,gh): # test passive Property \n",
    "    \n",
    "    stim_amp =  -0.1 \n",
    "    stim = h.IClamp(Cell.soma[0](0.5)) \n",
    "    stim.delay = 300 # in ms\n",
    "    stim.dur = 500  #1200 // 600 // in ms\n",
    "    stim.amp = stim_amp # 0.123 // in nA\n",
    "    \n",
    "    Cell.soma[0].glbar_leak = gleak * 1e-5\n",
    "    Cell.soma[0].ghdbar_hd = gh * 1e-5\n",
    "    for i in range (76):\n",
    "        Cell.dend[i].glbar_leak = 0.5*gleak * 1e-5\n",
    "        Cell.dend[i].ghdbar_hd = gh  * 1e-5\n",
    "    \n",
    "    h.run()\n",
    "\n",
    "    plt.plot(t_vec, v0_vec,'b')\n",
    "    plt.xlim(0,1000)\n",
    "    plt.ylabel('mV')\n",
    "    plt.show()"
   ]
  },
  {
   "cell_type": "code",
   "execution_count": 6,
   "metadata": {},
   "outputs": [],
   "source": [
    "def Spiking (gna,gkdr,kdrslope,kdrhalf): # match Spiking frequency \n",
    "    \n",
    "    stim_amp =  0.4\n",
    "    stim = h.IClamp(Cell.soma[0](0.5)) \n",
    "    stim.delay = 300 # in ms\n",
    "    stim.dur = 400  #1200 // 600 // in ms\n",
    "    stim.amp = stim_amp # 0.123 // in nA\n",
    "    \n",
    "    Cell.soma[0].gbar_na3 = 3*gna * 1e-3\n",
    "    Cell.soma[0].gbar_kdr = gkdr * 1e-3\n",
    "    Cell.soma[0].slop_kdr = kdrslope\n",
    "    Cell.soma[0].vhalfn_kdr = kdrhalf\n",
    "    for i in range (76):\n",
    "        Cell.dend[i].gbar_na3 = gna * 1e-3\n",
    "        Cell.dend[i].gbar_kdr = gkdr  * 1e-3\n",
    "        Cell.dend[i].slop_kdr = kdrslope\n",
    "        Cell.dend[i].vhalfn_kdr = kdrhalf\n",
    "    h.run()\n",
    "\n",
    "    plt.plot(t_vec, v0_vec,'b')\n",
    "    plt.xlim(0,1000)\n",
    "    plt.ylabel('mV')\n",
    "    plt.show()"
   ]
  },
  {
   "cell_type": "code",
   "execution_count": 7,
   "metadata": {},
   "outputs": [],
   "source": [
    "def LTO (gnap,naphalf,napslope,gkm,kmhalf,kmslope): # match LTO\n",
    "    \n",
    "    Cell.soma[0].gbar_nap = gnap * 1e-5\n",
    "    Cell.soma[0].vhalf_nap = naphalf\n",
    "    Cell.soma[0].k_nap = napslope \n",
    "    Cell.soma[0].gbar_im  = gkm * 1e-3\n",
    "    Cell.soma[0].vhalf_im = kmhalf\n",
    "    Cell.soma[0].k_im = kmslope\n",
    "    for i in range (76):\n",
    "        Cell.dend[i].gbar_nap = gnap * 1e-6\n",
    "        Cell.dend[i].vhalf_nap = naphalf\n",
    "        Cell.dend[i].k_nap = napslope \n",
    "        Cell.dend[i].gbar_im  = gkm * 1e-4\n",
    "        Cell.dend[i].vhalf_im = kmhalf\n",
    "        Cell.dend[i].k_im = kmslope\n",
    "        \n",
    "    stim_amp =  0.00707 \n",
    "    stim = h.IClamp(Cell.soma[0](0.5)) \n",
    "    stim.delay = 300 \n",
    "    stim.dur = 2500  \n",
    "    stim.amp = stim_amp \n",
    "     \n",
    "    stim1 = h.IClamp(Cell.soma[0](0.5)) \n",
    "    stim1.delay = 400 \n",
    "    stim1.dur = 2400  \n",
    "    stim1.amp = stim_amp \n",
    "     \n",
    "    stim2 = h.IClamp(Cell.soma[0](0.5)) \n",
    "    stim2.delay = 500 \n",
    "    stim2.dur = 2300  \n",
    "    stim2.amp = stim_amp \n",
    "    \n",
    "    stim3 = h.IClamp(Cell.soma[0](0.5)) \n",
    "    stim3.delay = 600 \n",
    "    stim3.dur = 2200  \n",
    "    stim3.amp = stim_amp \n",
    "    \n",
    "    stim4 = h.IClamp(Cell.soma[0](0.5)) \n",
    "    stim4.delay = 700 \n",
    "    stim4.dur = 2100  \n",
    "    stim4.amp = stim_amp \n",
    "     \n",
    "    stim5 = h.IClamp(Cell.soma[0](0.5)) \n",
    "    stim5.delay = 800 \n",
    "    stim5.dur = 2000  \n",
    "    stim5.amp = stim_amp \n",
    "     \n",
    "    stim6 = h.IClamp(Cell.soma[0](0.5)) \n",
    "    stim6.delay = 900 \n",
    "    stim6.dur = 1900  \n",
    "    stim6.amp = stim_amp \n",
    "    \n",
    "    stim7 = h.IClamp(Cell.soma[0](0.5)) \n",
    "    stim7.delay = 1000 \n",
    "    stim7.dur = 1800  \n",
    "    stim7.amp = stim_amp \n",
    "     \n",
    "    stim8 = h.IClamp(Cell.soma[0](0.5)) \n",
    "    stim8.delay = 1100 \n",
    "    stim8.dur = 1700  \n",
    "    stim8.amp = stim_amp \n",
    "     \n",
    "    stim9 = h.IClamp(Cell.soma[0](0.5)) \n",
    "    stim9.delay = 1200 \n",
    "    stim9.dur = 1600  \n",
    "    stim9.amp = stim_amp \n",
    "    \n",
    "    h.run()\n",
    "\n",
    "    plt.plot(t_vec, v0_vec,'b')\n",
    "    plt.xlim(0,3000)\n",
    "    plt.ylabel('mV')\n",
    "    plt.show()"
   ]
  },
  {
   "cell_type": "code",
   "execution_count": 8,
   "metadata": {},
   "outputs": [],
   "source": [
    "def HTO (gca,cahalf,caslope): # match HTO\n",
    "    \n",
    "    Cell.soma[0].gbar_na3 = 0\n",
    "    Cell.soma[0].gbar_nap = 0\n",
    "\n",
    "    for i in range (76):\n",
    "        Cell.dend[i].gbar_na3 = 0\n",
    "        Cell.dend[i].gbar_nap = 0\n",
    "\n",
    "    for i in range (11):\n",
    "        Cell.axon[i].gbar_na16 = 0 \n",
    "        Cell.axon[i].gbar_na12 = 0\n",
    "    \n",
    "    Cell.soma[0].gcabar_cadyn = gca * 1e-4\n",
    "    for i in range (76):\n",
    "        Cell.dend[i].gcabar_cadyn = gca * 1e-4\n",
    "    \n",
    "    Cell.soma[0].vhalf_cadyn = -cahalf\n",
    "    Cell.soma[0].k_cadyn = caslope\n",
    "    for i in range (76):\n",
    "        Cell.dend[i].gcabar_cadyn = gca * 1e-4\n",
    "        Cell.dend[i].vhalf_cadyn = -cahalf\n",
    "        Cell.dend[i].k_cadyn = caslope\n",
    "    \n",
    "    stim_amp =  0.33\n",
    "    stim = h.IClamp(Cell.soma[0](0.5)) \n",
    "    stim.delay = 300 \n",
    "    stim.dur = 2500  \n",
    "    stim.amp = stim_amp \n",
    "     \n",
    "    stim1 = h.IClamp(Cell.soma[0](0.5)) \n",
    "    stim1.delay = 400 \n",
    "    stim1.dur = 2400  \n",
    "    stim1.amp = stim_amp \n",
    "     \n",
    "    stim2 = h.IClamp(Cell.soma[0](0.5)) \n",
    "    stim2.delay = 500 \n",
    "    stim2.dur = 2300  \n",
    "    stim2.amp = stim_amp \n",
    "    \n",
    "    stim3 = h.IClamp(Cell.soma[0](0.5)) \n",
    "    stim3.delay = 600 \n",
    "    stim3.dur = 2200  \n",
    "    stim3.amp = stim_amp \n",
    "    \n",
    "    stim4 = h.IClamp(Cell.soma[0](0.5)) \n",
    "    stim4.delay = 700 \n",
    "    stim4.dur = 2100  \n",
    "    stim4.amp = stim_amp \n",
    "     \n",
    "    stim5 = h.IClamp(Cell.soma[0](0.5)) \n",
    "    stim5.delay = 800 \n",
    "    stim5.dur = 2000  \n",
    "    stim5.amp = stim_amp \n",
    "     \n",
    "    stim6 = h.IClamp(Cell.soma[0](0.5)) \n",
    "    stim6.delay = 900 \n",
    "    stim6.dur = 1900  \n",
    "    stim6.amp = stim_amp \n",
    "    \n",
    "    stim7 = h.IClamp(Cell.soma[0](0.5)) \n",
    "    stim7.delay = 1000 \n",
    "    stim7.dur = 1800  \n",
    "    stim7.amp = stim_amp \n",
    "     \n",
    "    stim8 = h.IClamp(Cell.soma[0](0.5)) \n",
    "    stim8.delay = 1100 \n",
    "    stim8.dur = 1700  \n",
    "    stim8.amp = stim_amp \n",
    "     \n",
    "    stim9 = h.IClamp(Cell.soma[0](0.5)) \n",
    "    stim9.delay = 1200 \n",
    "    stim9.dur = 1600  \n",
    "    stim9.amp = stim_amp \n",
    "    \n",
    "    h.run()\n",
    "\n",
    "    plt.plot(t_vec, v0_vec,'b')\n",
    "    plt.xlim(500,3000)\n",
    "    plt.ylabel('mV')\n",
    "    plt.show()"
   ]
  },
  {
   "cell_type": "code",
   "execution_count": 9,
   "metadata": {},
   "outputs": [
    {
     "data": {
      "application/vnd.jupyter.widget-view+json": {
       "model_id": "6955c7feca29482f927c6972e9d35bea",
       "version_major": 2,
       "version_minor": 0
      },
      "text/plain": [
       "HBox(children=(VBox(children=(Label(value='gleak'), Label(value='gh')), layout=Layout(width='10%')), VBox(chil…"
      ]
     },
     "metadata": {},
     "output_type": "display_data"
    },
    {
     "data": {
      "application/vnd.jupyter.widget-view+json": {
       "model_id": "4c289dc8120e49eda2622b9d3dda079f",
       "version_major": 2,
       "version_minor": 0
      },
      "text/plain": [
       "Output()"
      ]
     },
     "metadata": {},
     "output_type": "display_data"
    }
   ],
   "source": [
    "gleak = 4.5\n",
    "gh = 1.5\n",
    "\n",
    "w_gleak = widgets.FloatSlider(value=gleak,min=1.5,max=7.5,step=0.5,continuous_update=False,readout_format='.1f')\n",
    "w_gh = widgets.FloatSlider(value=gh,min=0,max=10,step=0.2,continuous_update=False,readout_format='.1f')\n",
    "\n",
    "ui =  HBox([VBox([Label('gleak'),Label('gh')],layout=Layout(width='10%')),\n",
    "            VBox([w_gleak,w_gh],layout=Layout(width='38%'))])\n",
    "\n",
    "out = widgets.interactive_output(Passive,{'gleak':w_gleak,'gh':w_gh})\n",
    "\n",
    "display(ui,out)\n"
   ]
  },
  {
   "cell_type": "code",
   "execution_count": 10,
   "metadata": {},
   "outputs": [],
   "source": [
    "gleak = 5.5  # after tuning the value, you need to copy the values here\n",
    "gh = 1.2 \n",
    "\n",
    "Cell.soma[0].glbar_leak = gleak * 1e-5\n",
    "Cell.soma[0].ghdbar_hd = gh * 1e-5\n",
    "for i in range (76):\n",
    "    Cell.dend[i].glbar_leak = gleak * 1e-5\n",
    "    Cell.dend[i].ghdbar_hd = gh * 1e-5"
   ]
  },
  {
   "cell_type": "code",
   "execution_count": 11,
   "metadata": {},
   "outputs": [
    {
     "data": {
      "application/vnd.jupyter.widget-view+json": {
       "model_id": "a7d447b5bfae4ad48bb341789b776fcf",
       "version_major": 2,
       "version_minor": 0
      },
      "text/plain": [
       "HBox(children=(VBox(children=(Label(value='gna'), Label(value='gkdr'), Label(value='kdrslope'), Label(value='k…"
      ]
     },
     "metadata": {},
     "output_type": "display_data"
    },
    {
     "data": {
      "application/vnd.jupyter.widget-view+json": {
       "model_id": "5c3700805dc74d9f89d49f032666c449",
       "version_major": 2,
       "version_minor": 0
      },
      "text/plain": [
       "Output()"
      ]
     },
     "metadata": {},
     "output_type": "display_data"
    }
   ],
   "source": [
    "gna = 15.5\n",
    "gkdr = 5.5\n",
    "kdrslope = 8.8\n",
    "kdrhalf = -13.5\n",
    "\n",
    "w_gna = widgets.FloatSlider(value=gna,min=1,max=30,step=0.5,continuous_update=False,readout_format='.1f')\n",
    "w_gkdr = widgets.FloatSlider(value=gkdr,min=1,max=30,step=0.1,continuous_update=False,readout_format='.1f')\n",
    "w_kdrk = widgets.FloatSlider(value=kdrslope,min=0,max=80,step=.1,continuous_update=False,readout_format='.1f')\n",
    "w_halfkdr = widgets.FloatSlider(value=kdrhalf,min=-40,max=0,step=.1,continuous_update=False,readout_format='.1f')\n",
    "ui =  HBox([VBox([Label('gna'),Label('gkdr'),Label('kdrslope'),Label('kdrhalf')],layout=Layout(width='10%')),\n",
    "            VBox([w_gna,w_gkdr,w_kdrk,w_halfkdr],layout=Layout(width='38%'))])\n",
    "\n",
    "out = widgets.interactive_output(Spiking,{'gna':w_gna,'gkdr':w_gkdr,'kdrslope':w_kdrk,'kdrhalf':w_halfkdr})\n",
    "\n",
    "display(ui,out)"
   ]
  },
  {
   "cell_type": "code",
   "execution_count": 12,
   "metadata": {},
   "outputs": [],
   "source": [
    "# after tuning the value, you need to copy the values here\n",
    "gna = 15.5\n",
    "gkdr = 5.5\n",
    "kdrslope = 8.8\n",
    "kdrhalf = -13.8\n",
    "\n",
    "Cell.soma[0].gbar_na3 = 3*gna * 1e-3\n",
    "Cell.soma[0].gbar_kdr = gkdr * 1e-3\n",
    "Cell.soma[0].slop_kdr = kdrslope\n",
    "Cell.soma[0].vhalfn_kdr = kdrhalf\n",
    "for i in range (76):\n",
    "    Cell.dend[i].gbar_na3 = gna * 1e-3\n",
    "    Cell.dend[i].gbar_kdr = gkdr  * 1e-3\n",
    "    Cell.dend[i].slop_kdr = kdrslope\n",
    "    Cell.dend[i].vhalfn_kdr = kdrhalf"
   ]
  },
  {
   "cell_type": "code",
   "execution_count": null,
   "metadata": {},
   "outputs": [],
   "source": [
    "gnap = 46.3\n",
    "gkm = 5.1\n",
    "naphalf = 24.1\n",
    "napslope = 34.1\n",
    "kmhalf = 41.7\n",
    "kmslope = 43.8\n",
    "\n",
    "w_gnap = widgets.FloatSlider(value=gnap,min=1,max=100,step=0.1,continuous_update=False,readout_format='.1f')\n",
    "w_gkm = widgets.FloatSlider(value=gkm,min=1,max=100,step=0.1,continuous_update=False,readout_format='.1f')\n",
    "\n",
    "w_vhalf = widgets.FloatSlider(value=naphalf,min=1,max=64,step=.1,continuous_update=False,readout_format='.1f')\n",
    "w_Vhalf = widgets.FloatSlider(value=kmhalf,min=1,max=64,step=.1,continuous_update=False,readout_format='.1f')\n",
    "\n",
    "w_knap = widgets.FloatSlider(value=napslope,min=0,max=70,step=.1,continuous_update=False,readout_format='.1f')\n",
    "w_km = widgets.FloatSlider(value=kmslope,min=0,max=70,step=.1,continuous_update=False,readout_format='.1f')\n",
    "\n",
    "ui =  HBox([VBox([Label('gnap'),Label('gkm'),Label('naphalf'),Label('kmhalf'),Label('napslope'),Label('kmslope')],layout=Layout(width='10%')),\n",
    "            VBox([w_gnap,w_gkm,w_vhalf,w_Vhalf,w_knap,w_km],layout=Layout(width='38%'))])\n",
    "\n",
    "out = widgets.interactive_output(LTO,{'gnap':w_gnap,'gkm':w_gkm,'naphalf':w_vhalf,'kmhalf':w_Vhalf,'napslope':w_knap,'kmslope':w_km})\n",
    "\n",
    "display(ui,out)\n",
    "\n"
   ]
  },
  {
   "cell_type": "code",
   "execution_count": null,
   "metadata": {},
   "outputs": [],
   "source": [
    "# after tuning the value, you need to copy the values here\n",
    "gnap = 75.3\n",
    "gkm = 6.5\n",
    "naphalf = 7.4\n",
    "napslope = 41.7\n",
    "kmhalf = 32.2\n",
    "kmslope = 43.8\n",
    "\n",
    "Cell.soma[0].gbar_nap = gnap * 1e-5\n",
    "Cell.soma[0].vhalf_nap = naphalf\n",
    "Cell.soma[0].k_nap = napslope \n",
    "Cell.soma[0].gbar_im  = gkm * 1e-3\n",
    "Cell.soma[0].vhalf_im = kmhalf\n",
    "Cell.soma[0].k_im = kmslope\n",
    "\n",
    "for i in range (76):\n",
    "    Cell.dend[i].gbar_nap = gnap * 1e-5\n",
    "    Cell.dend[i].vhalf_nap = naphalf\n",
    "    Cell.dend[i].k_nap = napslope \n",
    "    Cell.dend[i].gbar_im  = gkm * 1e-3\n",
    "    Cell.dend[i].vhalf_im = kmhalf\n",
    "    Cell.dend[i].k_im = kmslope\n",
    "\n",
    "for i in range (76):\n",
    "    Cell.dend[i].gbar_nap = gnap * 1e-5\n",
    "    Cell.dend[i].gbar_im  = gkm * 1e-3\n"
   ]
  },
  {
   "cell_type": "code",
   "execution_count": null,
   "metadata": {},
   "outputs": [],
   "source": [
    "gca = 6.7\n",
    "cahalf = -47.6\n",
    "caslope = 9.1\n",
    "\n",
    "w_gca = widgets.FloatSlider(value=gca,min=1,max=30,step=0.1,continuous_update=False,readout_format='.1f')\n",
    "w_halfca = widgets.FloatSlider(value=cahalf,min=-64,max=0,step=.1,continuous_update=False,readout_format='.1f')\n",
    "w_cak = widgets.FloatSlider(value=caslope,min=0,max=80,step=0.1,continuous_update=False,readout_format='.1f')\n",
    "\n",
    "ui =  HBox([VBox([Label('gca'),Label('cahalf'),Label('caslope')],layout=Layout(width='10%')),\n",
    "            VBox([w_gca,w_halfca,w_cak],layout=Layout(width='38%'))])\n",
    "\n",
    "out = widgets.interactive_output(HTO,{'gca':w_gca,'cahalf':w_halfca,'caslope':w_cak})\n",
    "\n",
    "display(ui,out)\n"
   ]
  },
  {
   "cell_type": "code",
   "execution_count": null,
   "metadata": {},
   "outputs": [],
   "source": []
  }
 ],
 "metadata": {
  "kernelspec": {
   "display_name": "Python 3",
   "language": "python",
   "name": "python3"
  },
  "language_info": {
   "codemirror_mode": {
    "name": "ipython",
    "version": 3
   },
   "file_extension": ".py",
   "mimetype": "text/x-python",
   "name": "python",
   "nbconvert_exporter": "python",
   "pygments_lexer": "ipython3",
   "version": "3.6.9"
  }
 },
 "nbformat": 4,
 "nbformat_minor": 2
}
